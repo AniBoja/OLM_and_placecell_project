{
 "cells": [
  {
   "cell_type": "code",
   "execution_count": null,
   "metadata": {},
   "outputs": [
    {
     "ename": "",
     "evalue": "",
     "output_type": "error",
     "traceback": [
      "\u001b[1;31mFailed to start the Kernel. \n",
      "\u001b[1;31mImportError: /usr/lib/python3.12/lib-dynload/_sqlite3.cpython-312-x86_64-linux-gnu.so: undefined symbol: sqlite3_deserialize. \n",
      "\u001b[1;31mView Jupyter <a href='command:jupyter.viewOutput'>log</a> for further details."
     ]
    }
   ],
   "source": [
    "import sys\n",
    "import os\n",
    "sys.path.append(os.path.abspath(os.path.join(os.getcwd(), '..')))\n",
    "\n",
    "import numpy as np\n",
    "import pandas as pd\n",
    "import plotly.graph_objects as go\n",
    "from plotly.subplots import make_subplots\n",
    "import matplotlib.pyplot as plt\n",
    "import seaborn as sns\n",
    "import plotly.io as pio\n",
    "from IPython.display import display, clear_output\n",
    "import ipywidgets as widgets\n",
    "\n",
    "from utils.placecell_functions import *\n",
    "from utils.placecell_ploting import *\n",
    "from utils.placecell_classes import data_loader, animal_widgets"
   ]
  },
  {
   "cell_type": "code",
   "execution_count": 6,
   "metadata": {},
   "outputs": [
    {
     "data": {
      "application/javascript": "IPython.OutputArea.prototype._should_scroll = function(lines) {\n    return false;\n}\n",
      "text/plain": [
       "<IPython.core.display.Javascript object>"
      ]
     },
     "metadata": {},
     "output_type": "display_data"
    }
   ],
   "source": [
    "%%javascript\n",
    "IPython.OutputArea.prototype._should_scroll = function(lines) {\n",
    "    return false;\n",
    "}"
   ]
  },
  {
   "cell_type": "markdown",
   "metadata": {},
   "source": [
    "### Data loading and variable declaration"
   ]
  },
  {
   "cell_type": "code",
   "execution_count": 7,
   "metadata": {},
   "outputs": [],
   "source": [
    "data_dir = \"../data/\"\n",
    "save_location = \"../output_data/\"\n",
    "output_dir = \"../output_figs/\"\n",
    "\n",
    "exp_sets = ['mcherry']\n",
    "data_sets = ['Day2 - Squ-Tri-Tri','Day4 - Tri-Tri-Tri', 'Day5 - Tri-OptoTri-Tri', 'Day6 - Tri-OptoHex-Hex']\n",
    "\n",
    "data_titles = ['Day2 - Familiar - Novel - Novel','Day4 - Familiar - Familiar - Familiar', 'Day5 - Familiar - OptoFamiliar - Familiar', 'Day6 - Familiar - OptoNovel - Novel']\n",
    "session_names = [[\"Familiar\", \"Novel\", \"Novel\"],[\"Familiar\", \"Familiar\", \"Familiar\"],[\"Familiar\", \"OptoFamiliar\", \"Familiar\"],[\"Familiar\", \"OptoNovel\", \"Novel\"]]\n",
    "\n",
    "data_filenames = ['ratemap_structure_day2.mat','ratemap_structure_day4.mat','ratemap_structure_day5.mat','ratemap_structure_day6.mat']\n",
    "\n",
    "\n",
    "opto_actual_bins = [8, 20] #These are the zones that contained opto frames but the edges hardly had any\n",
    "control_actual_bins = [21, 33] #This is the oposite of that zone. \n",
    "opto_bins = [10,18] # inclusive and based on zero index (added +1 when indexing)\n",
    "control_bins = [21,29] # inclusive and based on zero index (added +1 to second element when indexing)\n",
    "\n",
    "\n",
    "# colour palettes used for the plotting\n",
    "purple_green_pallette = [(0.24423453, 0.20678459, 0.41985299), (0.29215894, 0.76144162, 0.67886578)]\n",
    "purple_orange_pallette = [(0.24423453, 0.20678459, 0.41985299), (0.9411764705882353, 0.5607843137254902, 0.2901960784313726)]\n",
    "\n",
    "purple_green_pallette_point = [(0.44423453, 0.40678459, 0.61985299), (0.29215894, 0.76144162, 0.67886578)]\n",
    "purple_orange_pallette_point = [(0.44423453, 0.40678459, 0.61985299), (0.9490196078431372, 0.6784313725490196, 0.45098039215686275)]\n",
    "\n",
    "\n",
    "joint_pal = [purple_orange_pallette, purple_green_pallette]\n",
    "joint_pal_point = [purple_orange_pallette_point, purple_green_pallette_point]\n"
   ]
  },
  {
   "cell_type": "markdown",
   "metadata": {},
   "source": [
    "### Define and show widgets\n",
    "Using ipython widgets create and show widgets for data display option\n",
    "- Could add observers for each widget to run the data processing step"
   ]
  },
  {
   "cell_type": "code",
   "execution_count": 8,
   "metadata": {},
   "outputs": [
    {
     "data": {
      "application/vnd.jupyter.widget-view+json": {
       "model_id": "8c6d6188a7934d529c65c47d9dfffd39",
       "version_major": 2,
       "version_minor": 0
      },
      "text/plain": [
       "RadioButtons(description='Experiments:', options=('mcherry',), value='mcherry')"
      ]
     },
     "metadata": {},
     "output_type": "display_data"
    },
    {
     "data": {
      "application/vnd.jupyter.widget-view+json": {
       "model_id": "d099b0b7beb24470940405c3ece9c29b",
       "version_major": 2,
       "version_minor": 0
      },
      "text/plain": [
       "RadioButtons(description='Dataset:', options=('Day2 - Squ-Tri-Tri', 'Day4 - Tri-Tri-Tri', 'Day5 - Tri-OptoTri-…"
      ]
     },
     "metadata": {},
     "output_type": "display_data"
    },
    {
     "data": {
      "application/vnd.jupyter.widget-view+json": {
       "model_id": "ee15d6d0fe27472daa3f708c92359dad",
       "version_major": 2,
       "version_minor": 0
      },
      "text/plain": [
       "Output()"
      ]
     },
     "metadata": {},
     "output_type": "display_data"
    },
    {
     "data": {
      "application/vnd.jupyter.widget-view+json": {
       "model_id": "0c0720dd33b54a4aa2f302ebc446a836",
       "version_major": 2,
       "version_minor": 0
      },
      "text/plain": [
       "Select(description='Activity type:', options=('All activity', 'Place activity'), rows=2, style=DescriptionStyl…"
      ]
     },
     "metadata": {},
     "output_type": "display_data"
    },
    {
     "data": {
      "application/vnd.jupyter.widget-view+json": {
       "model_id": "59445bb7f8be4c5d89a850da96df075f",
       "version_major": 2,
       "version_minor": 0
      },
      "text/plain": [
       "Select(description='Ratemap type:', options=('All cell rates', 'Place cells'), rows=2, style=DescriptionStyle(…"
      ]
     },
     "metadata": {},
     "output_type": "display_data"
    },
    {
     "data": {
      "application/vnd.jupyter.widget-view+json": {
       "model_id": "142220507ee3429281bc3512d079f991",
       "version_major": 2,
       "version_minor": 0
      },
      "text/plain": [
       "RadioButtons(description='Ratemap to align to:', index=1, options=('Session 1', 'Session 2', 'Session 3'), val…"
      ]
     },
     "metadata": {},
     "output_type": "display_data"
    },
    {
     "data": {
      "application/vnd.jupyter.widget-view+json": {
       "model_id": "0735e59709fb4f73a941e088f0a2281c",
       "version_major": 2,
       "version_minor": 0
      },
      "text/plain": [
       "Checkbox(value=False, description='Show optozone', indent=False)"
      ]
     },
     "metadata": {},
     "output_type": "display_data"
    }
   ],
   "source": [
    "# callback function to redraw widgets when dataset changes\n",
    "def update_widgets(change):\n",
    "    animals.create_widget(output_widget)\n",
    "    \n",
    "\n",
    "sort_by = widgets.RadioButtons(\n",
    "        options=['Session 1', 'Session 2', 'Session 3'],\n",
    "        index = 1,\n",
    "        description='Ratemap to align to:',\n",
    "        disabled=False,\n",
    "        button_style='info', # 'success', 'info', 'warning', 'danger' or ''\n",
    "    )\n",
    "\n",
    "activity_type = widgets.Select(\n",
    "                options=[\"All activity\",\"Place activity\"],\n",
    "                index=0,\n",
    "                rows = 2,\n",
    "                description='Activity type:',\n",
    "                disabled=False,\n",
    "                style= {'description_width': 'initial'}\n",
    "            )\n",
    "\n",
    "show_opto = widgets.Checkbox(\n",
    "            value=False,\n",
    "            description='Show optozone',\n",
    "            disabled=False,\n",
    "            indent=False\n",
    "        )\n",
    "\n",
    "ratemap_type = widgets.Select(\n",
    "                options=[\"All cell rates\",\"Place cells\"],\n",
    "                index=0,\n",
    "                rows = 2,\n",
    "                description='Ratemap type:',\n",
    "                disabled=False,\n",
    "                style= {'description_width': 'initial'}\n",
    "            )\n",
    "\n",
    "\n",
    "# create an instance of the data loader\n",
    "data = data_loader(data_dir, exp_sets, data_sets, data_filenames, data_titles, session_names)\n",
    "\n",
    "# observe when the data object changes\n",
    "data.data_widget.observe(update_widgets, names = 'value')\n",
    "\n",
    "#create an output widget that will hold the FOV image or the selection widget\n",
    "output_widget = widgets.Output() \n",
    "\n",
    "#create animals widgets\n",
    "animals = animal_widgets(output_widget, data)\n",
    "\n",
    "#display all of the widgets\n",
    "display(data.exp_widget)\n",
    "display(data.data_widget)\n",
    "display(animals.create_widget(output_widget)) \n",
    "display(activity_type)\n",
    "display(ratemap_type)\n",
    "display(sort_by)\n",
    "display(show_opto)"
   ]
  },
  {
   "cell_type": "markdown",
   "metadata": {},
   "source": [
    "### Process data based on widget choice\n",
    "From each widget obtain the selection choice and process the data."
   ]
  },
  {
   "cell_type": "code",
   "execution_count": 5,
   "metadata": {},
   "outputs": [
    {
     "name": "stderr",
     "output_type": "stream",
     "text": [
      "c:\\Users\\mu16645\\Anaconda3\\envs\\placecell_processing\\Lib\\site-packages\\numpy\\lib\\_function_base_impl.py:2999: RuntimeWarning: invalid value encountered in divide\n",
      "  c /= stddev[:, None]\n",
      "c:\\Users\\mu16645\\Anaconda3\\envs\\placecell_processing\\Lib\\site-packages\\numpy\\lib\\_function_base_impl.py:3000: RuntimeWarning: invalid value encountered in divide\n",
      "  c /= stddev[None, :]\n"
     ]
    }
   ],
   "source": [
    "# get widgets values and process data\n",
    "animal_id = animals.selection.value\n",
    "ids_to_pool = animals.ids_to_pool.value\n",
    "sort_by_index = sort_by.index\n",
    "compare_to_place = activity_type.index\n",
    "plot_opto = show_opto.value\n",
    "\n",
    "placecell_rates_dict = data.placecell_rates_dict\n",
    "placecell_info_dict = data.placecell_info_dict\n",
    "\n",
    "raw_rates_dict = data.raw_rates_dict\n",
    "#raw_rates_info_dict = data.allcell_info_dict\n",
    "\n",
    "sub_titles = data.sub_titles\n",
    "data_set_to_plot = data.data_set_to_plot\n",
    "title_for_data = data.title_for_data \n",
    "display_placecells = ratemap_type.index\n",
    "\n",
    "\n",
    "# Select which data to be included in analysis\n",
    "if animal_id == 'pooled data':\n",
    "    #concatonate all of the animals ontop of eachother into a list\n",
    "    placecell_rates = create_pooled_data(placecell_rates_dict,ids_to_pool)\n",
    "    raw_rates = create_pooled_data(raw_rates_dict,ids_to_pool)\n",
    "    rates_average, rates_sem = get_pooled_average_rates(raw_rates_dict,ids_to_pool)\n",
    "    \n",
    "else:\n",
    "    placecell_rates = placecell_rates_dict[animal_id]\n",
    "    raw_rates = raw_rates_dict[animal_id]\n",
    "    rates_average = get_average_rates(raw_rates_dict,animal_id)\n",
    "\n",
    "# sort the ratemaps based on the user input\n",
    "compare_rates = placecell_rates[sort_by_index]\n",
    "sort_id, sort_index = sort_ratemaps(compare_rates)\n",
    "\n",
    "# using the indices of sort_id Sort each placecell and rawrates  DataFrames in the list of dataframes and s and convert \n",
    "place_rates_sorted = [df.reindex(sort_id).fillna(0) for df in placecell_rates]\n",
    "raw_rates_sorted = [df.reindex(sort_id).fillna(0) for df in raw_rates]\n",
    "\n",
    "# Proccess which rate maps to display          \n",
    "if compare_to_place:\n",
    "    display_rates = place_rates_sorted\n",
    "else:\n",
    "    display_rates = raw_rates_sorted\n",
    "    display_rates[sort_by_index] = place_rates_sorted[sort_by_index]\n",
    "\n",
    "\n",
    "if display_placecells:\n",
    "    rates_to_plot =  sort_placecells(placecell_rates)\n",
    "else:\n",
    "    rates_to_plot = display_rates\n"
   ]
  },
  {
   "cell_type": "code",
   "execution_count": null,
   "metadata": {},
   "outputs": [],
   "source": []
  }
 ],
 "metadata": {
  "kernelspec": {
   "display_name": "olm_venv",
   "language": "python",
   "name": "python3"
  },
  "language_info": {
   "codemirror_mode": {
    "name": "ipython",
    "version": 3
   },
   "file_extension": ".py",
   "mimetype": "text/x-python",
   "name": "python",
   "nbconvert_exporter": "python",
   "pygments_lexer": "ipython3",
   "version": "3.12.7"
  }
 },
 "nbformat": 4,
 "nbformat_minor": 4
}
