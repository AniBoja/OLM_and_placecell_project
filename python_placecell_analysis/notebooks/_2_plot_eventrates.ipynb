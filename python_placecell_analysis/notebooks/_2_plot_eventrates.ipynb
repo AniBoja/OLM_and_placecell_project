{
 "cells": [
  {
   "cell_type": "code",
   "execution_count": 1,
   "metadata": {},
   "outputs": [],
   "source": [
    "import sys\n",
    "import os\n",
    "sys.path.append(os.path.abspath(os.path.join(os.getcwd(), '..')))\n",
    "\n",
    "import numpy as np\n",
    "import pandas as pd\n",
    "import plotly.graph_objects as go\n",
    "from plotly.subplots import make_subplots\n",
    "import matplotlib.pyplot as plt\n",
    "import seaborn as sns\n",
    "import plotly.io as pio\n",
    "from IPython.display import display, clear_output\n",
    "import ipywidgets as widgets\n",
    "import pickle\n",
    "\n",
    "from utils.placecell_functions import *\n",
    "from utils.placecell_ploting import *\n",
    "from utils.placecell_classes import data_loader, animal_widgets"
   ]
  },
  {
   "cell_type": "code",
   "execution_count": 2,
   "metadata": {},
   "outputs": [
    {
     "data": {
      "application/javascript": "IPython.OutputArea.prototype._should_scroll = function(lines) {\n    return false;\n}\n",
      "text/plain": [
       "<IPython.core.display.Javascript object>"
      ]
     },
     "metadata": {},
     "output_type": "display_data"
    }
   ],
   "source": [
    "%%javascript\n",
    "IPython.OutputArea.prototype._should_scroll = function(lines) {\n",
    "    return false;\n",
    "}"
   ]
  },
  {
   "cell_type": "markdown",
   "metadata": {},
   "source": [
    "### Data loading and variable declaration"
   ]
  },
  {
   "cell_type": "code",
   "execution_count": 3,
   "metadata": {},
   "outputs": [],
   "source": [
    "data_dir = \"../data/\"\n",
    "save_location = \"../output_data/\"\n",
    "output_dir = \"../output_figs/\"\n",
    "\n",
    "exp_sets = ['mcherry']\n",
    "data_sets = ['Day2 - Squ-Tri-Tri','Day4 - Tri-Tri-Tri', 'Day5 - Tri-OptoTri-Tri', 'Day6 - Tri-OptoHex-Hex']\n",
    "\n",
    "data_titles = ['Day2 - Familiar - Novel - Novel','Day4 - Familiar - Familiar - Familiar', 'Day5 - Familiar - OptoFamiliar - Familiar', 'Day6 - Familiar - OptoNovel - Novel']\n",
    "session_names = [[\"Familiar\", \"Novel\", \"Novel\"],[\"Familiar\", \"Familiar\", \"Familiar\"],[\"Familiar\", \"OptoFamiliar\", \"Familiar\"],[\"Familiar\", \"OptoNovel\", \"Novel\"]]\n",
    "\n",
    "data_filenames = ['ratemap_structure_day2.mat','ratemap_structure_day4.mat','ratemap_structure_day5.mat','ratemap_structure_day6.mat']\n",
    "\n",
    "\n",
    "opto_actual_bins = [8, 20] #These are the zones that contained opto frames but the edges hardly had any\n",
    "control_actual_bins = [21, 33] #This is the oposite of that zone. \n",
    "opto_bins = [10,18] # inclusive and based on zero index (added +1 when indexing)\n",
    "control_bins = [21,29] # inclusive and based on zero index (added +1 to second element when indexing)\n",
    "\n",
    "\n",
    "# colour palettes used for the plotting\n",
    "purple_green_pallette = [(0.24423453, 0.20678459, 0.41985299), (0.29215894, 0.76144162, 0.67886578)]\n",
    "purple_orange_pallette = [(0.24423453, 0.20678459, 0.41985299), (0.9411764705882353, 0.5607843137254902, 0.2901960784313726)]\n",
    "\n",
    "purple_green_pallette_point = [(0.44423453, 0.40678459, 0.61985299), (0.29215894, 0.76144162, 0.67886578)]\n",
    "purple_orange_pallette_point = [(0.44423453, 0.40678459, 0.61985299), (0.9490196078431372, 0.6784313725490196, 0.45098039215686275)]\n",
    "\n",
    "\n",
    "joint_pal = [purple_orange_pallette, purple_green_pallette]\n",
    "joint_pal_point = [purple_orange_pallette_point, purple_green_pallette_point]\n"
   ]
  },
  {
   "cell_type": "markdown",
   "metadata": {},
   "source": [
    "### Define and show widgets\n",
    "Using ipython widgets create and show widgets for data display option\n",
    "- Could add observers for each widget to run the data processing step"
   ]
  },
  {
   "cell_type": "code",
   "execution_count": 4,
   "metadata": {},
   "outputs": [
    {
     "data": {
      "application/vnd.jupyter.widget-view+json": {
       "model_id": "cc51667c66574b5bb6f988eb2ca9f82a",
       "version_major": 2,
       "version_minor": 0
      },
      "text/plain": [
       "RadioButtons(description='Experiments:', options=('mcherry',), value='mcherry')"
      ]
     },
     "metadata": {},
     "output_type": "display_data"
    },
    {
     "data": {
      "application/vnd.jupyter.widget-view+json": {
       "model_id": "9c27c691e15f4d7da36e0529c8e7143c",
       "version_major": 2,
       "version_minor": 0
      },
      "text/plain": [
       "RadioButtons(description='Dataset:', options=('Day2 - Squ-Tri-Tri', 'Day4 - Tri-Tri-Tri', 'Day5 - Tri-OptoTri-…"
      ]
     },
     "metadata": {},
     "output_type": "display_data"
    },
    {
     "data": {
      "application/vnd.jupyter.widget-view+json": {
       "model_id": "c14cdb733ba74c4e8b2ca192b71193f5",
       "version_major": 2,
       "version_minor": 0
      },
      "text/plain": [
       "Output()"
      ]
     },
     "metadata": {},
     "output_type": "display_data"
    },
    {
     "data": {
      "application/vnd.jupyter.widget-view+json": {
       "model_id": "f972ee3f21634c58b3b6078bba052aaf",
       "version_major": 2,
       "version_minor": 0
      },
      "text/plain": [
       "Select(description='Activity type:', options=('All activity', 'Place activity'), rows=2, style=DescriptionStyl…"
      ]
     },
     "metadata": {},
     "output_type": "display_data"
    },
    {
     "data": {
      "application/vnd.jupyter.widget-view+json": {
       "model_id": "0135209c61e047d9902c6b28c4ea75d9",
       "version_major": 2,
       "version_minor": 0
      },
      "text/plain": [
       "Select(description='Ratemap type:', options=('All cell rates', 'Place cells'), rows=2, style=DescriptionStyle(…"
      ]
     },
     "metadata": {},
     "output_type": "display_data"
    },
    {
     "data": {
      "application/vnd.jupyter.widget-view+json": {
       "model_id": "f544d8562a67422e89cc161658cc6e1c",
       "version_major": 2,
       "version_minor": 0
      },
      "text/plain": [
       "RadioButtons(description='Ratemap to align to:', index=1, options=('Session 1', 'Session 2', 'Session 3'), val…"
      ]
     },
     "metadata": {},
     "output_type": "display_data"
    },
    {
     "data": {
      "application/vnd.jupyter.widget-view+json": {
       "model_id": "a161af1dc0384286b3ec8c4a0f4feae6",
       "version_major": 2,
       "version_minor": 0
      },
      "text/plain": [
       "Checkbox(value=False, description='Show optozone', indent=False)"
      ]
     },
     "metadata": {},
     "output_type": "display_data"
    }
   ],
   "source": [
    "# callback function to redraw widgets when dataset changes\n",
    "def update_widgets(change):\n",
    "    animals.create_widget(output_widget)\n",
    "    \n",
    "\n",
    "sort_by = widgets.RadioButtons(\n",
    "        options=['Session 1', 'Session 2', 'Session 3'],\n",
    "        index = 1,\n",
    "        description='Ratemap to align to:',\n",
    "        disabled=False,\n",
    "        button_style='info', # 'success', 'info', 'warning', 'danger' or ''\n",
    "    )\n",
    "\n",
    "activity_type = widgets.Select(\n",
    "                options=[\"All activity\",\"Place activity\"],\n",
    "                index=0,\n",
    "                rows = 2,\n",
    "                description='Activity type:',\n",
    "                disabled=False,\n",
    "                style= {'description_width': 'initial'}\n",
    "            )\n",
    "\n",
    "show_opto = widgets.Checkbox(\n",
    "            value=False,\n",
    "            description='Show optozone',\n",
    "            disabled=False,\n",
    "            indent=False\n",
    "        )\n",
    "\n",
    "ratemap_type = widgets.Select(\n",
    "                options=[\"All cell rates\",\"Place cells\"],\n",
    "                index=0,\n",
    "                rows = 2,\n",
    "                description='Ratemap type:',\n",
    "                disabled=False,\n",
    "                style= {'description_width': 'initial'}\n",
    "            )\n",
    "\n",
    "\n",
    "# create an instance of the data loader\n",
    "data = data_loader(data_dir, exp_sets, data_sets, data_filenames, data_titles, session_names)\n",
    "\n",
    "# observe when the data object changes\n",
    "data.data_widget.observe(update_widgets, names = 'value')\n",
    "\n",
    "#create an output widget that will hold the FOV image or the selection widget\n",
    "output_widget = widgets.Output() \n",
    "\n",
    "#create animals widgets\n",
    "animals = animal_widgets(output_widget, data)\n",
    "\n",
    "#display all of the widgets\n",
    "display(data.exp_widget)\n",
    "display(data.data_widget)\n",
    "display(animals.create_widget(output_widget)) \n",
    "display(activity_type)\n",
    "display(ratemap_type)\n",
    "display(sort_by)\n",
    "display(show_opto)\n"
   ]
  },
  {
   "cell_type": "markdown",
   "metadata": {},
   "source": [
    "### Process data based on widget choice\n",
    "From each widget obtain the selection choice and process the data."
   ]
  },
  {
   "cell_type": "code",
   "execution_count": null,
   "metadata": {},
   "outputs": [],
   "source": [
    "# get widgets values and process data\n",
    "animal_id = animals.selection.value\n",
    "ids_to_pool = animals.ids_to_pool.value\n",
    "sort_by_index = sort_by.index\n",
    "compare_to_place = activity_type.index\n",
    "plot_opto = show_opto.value\n",
    "\n",
    "placecell_rates_dict = data.placecell_rates_dict\n",
    "placecell_info_dict = data.placecell_info_dict\n",
    "\n",
    "raw_rates_dict = data.raw_rates_dict\n",
    "#raw_rates_info_dict = data.allcell_info_dict\n",
    "\n",
    "sub_titles = data.sub_titles\n",
    "data_set_to_plot = data.data_set_to_plot\n",
    "title_for_data = data.title_for_data \n",
    "display_placecells = ratemap_type.index\n",
    "\n",
    "\n",
    "# Select which data to be included in analysis\n",
    "if animal_id == 'pooled data':\n",
    "    #concatonate all of the animals ontop of eachother into a list\n",
    "    placecell_rates = create_pooled_data(placecell_rates_dict,ids_to_pool)\n",
    "    placecell_spatial_info = create_pooled_data(placecell_info_dict,ids_to_pool)\n",
    "    raw_rates = create_pooled_data(raw_rates_dict,ids_to_pool)\n",
    "    rates_average, rates_sem = get_pooled_average_rates(raw_rates_dict,ids_to_pool)\n",
    "    coors_diags_mean, coors_diags_sem, opto_zone_diag, ctrl_zone_diag, opto_zone_avg, control_zone_avg = get_pooled_avg_corrs(raw_rates_dict,\n",
    "                                                                                                                              placecell_rates_dict,\n",
    "                                                                                                                              sort_by_index,\n",
    "                                                                                                                              compare_to_place,\n",
    "                                                                                                                              ids_to_pool,\n",
    "                                                                                                                              opto_bins,\n",
    "                                                                                                                              control_bins)\n",
    "else:\n",
    "    placecell_rates = placecell_rates_dict[animal_id]\n",
    "    raw_rates = raw_rates_dict[animal_id]\n",
    "    rates_average = get_average_rates(raw_rates_dict,animal_id)\n",
    "\n",
    "\n",
    "# sort the ratemaps based on the user input\n",
    "compare_rates = placecell_rates[sort_by_index]\n",
    "sort_id, sort_index = sort_ratemaps(compare_rates)\n",
    "\n",
    "# using the indices of sort_id Sort each placecell and rawrates  DataFrames in the list of dataframes and s and convert \n",
    "place_rates_sorted = [df.reindex(sort_id).fillna(0) for df in placecell_rates]\n",
    "raw_rates_sorted = [df.reindex(sort_id).fillna(0) for df in raw_rates]\n",
    "spatial_info_sorted = [df.reindex(sort_id).fillna(0) for df in placecell_spatial_info]\n",
    "\n",
    "#get the placefield center for sorted ratemaps\n",
    "place_rates_sorted_centers = [get_placecell_centers(df) for df in place_rates_sorted]\n",
    "raw_rates_sorted_centers = [get_placecell_centers(df) for df in raw_rates_sorted]\n",
    "\n",
    "\n",
    "# Proccess which rate maps to display          \n",
    "if compare_to_place:\n",
    "    display_rates = place_rates_sorted\n",
    "else:\n",
    "    display_rates = raw_rates_sorted\n",
    "    display_rates[sort_by_index] = place_rates_sorted[sort_by_index]\n",
    "\n",
    "# create the arrays to used for correlation\n",
    "array1 = display_rates[sort_by_index].values\n",
    "array2 = [df.values for df in display_rates]\n",
    "\n",
    "# create the population vector correlation\n",
    "place_rates_popveccorr = [create_corr_matrix(array1,array2[i]) for i in range(len(array2))]\n",
    "\n",
    "# create the spatial correlation\n",
    "place_rates_spatialcorr = [spatial_corr(array1,array2[i]) for i in range(len(array2))]\n",
    "\n",
    "\n",
    "if animal_id != 'pooled data':\n",
    "\n",
    "    coors_diags_mean = [np.diagonal(corrs) for corrs in place_rates_popveccorr]\n",
    "    opto_zone_avg = [[np.mean(corrs[opto_bins[0]:opto_bins[1]+1,opto_bins[0]:opto_bins[1]+1])] for corrs in place_rates_popveccorr]\n",
    "    control_zone_avg = [[np.mean(corrs[control_bins[0]:control_bins[1]+1,control_bins[0]:control_bins[1]+1])] for corrs in place_rates_popveccorr]\n",
    "\n",
    "    opto_zone_diag = [[np.nanmean(id[opto_bins[0]:opto_bins[1]+1])] for id in coors_diags_mean]\n",
    "    ctrl_zone_diag = [[np.nanmean(id[control_bins[0]:control_bins[1]+1])] for id in coors_diags_mean]\n",
    "\n",
    "\n",
    "if display_placecells:\n",
    "    rates_to_plot =  sort_placecells(placecell_rates)\n",
    "else:\n",
    "    rates_to_plot = display_rates\n",
    "\n",
    "\n",
    "\n",
    "\n"
   ]
  },
  {
   "cell_type": "markdown",
   "metadata": {},
   "source": [
    "## Place cell event rates\n"
   ]
  },
  {
   "cell_type": "code",
   "execution_count": 6,
   "metadata": {},
   "outputs": [],
   "source": [
    "# Function to plot event rates using seaborn and matplotlib\n",
    "def plot_event_rates_seaborn(rates_average, rates_sem, line_thickness = 3, \n",
    "                             fontsize_scale = 2, \n",
    "                             legend_text = ['Session 1', 'Session 2'],\n",
    "                             plot_opto = False,\n",
    "                             line_pallette  = ['#357ba3', '#414387'],\n",
    "                             fill_pallette = ['#357ba333', '#41438733'], \n",
    "                             plt_w = 5,\n",
    "                             plt_h = 5):\n",
    "    \n",
    "    \n",
    "\n",
    "    sns.set_theme(style=\"ticks\", font='Arial', font_scale=fontsize_scale)\n",
    "\n",
    "    # Create the figure and axis\n",
    "    fig, ax = plt.subplots(figsize=(plt_w, plt_h))\n",
    "    ax.grid(True, which='major', axis='y', color='lightgrey', linestyle='-', linewidth=1)\n",
    "    # Reverse loop to maintain similar order as the original plot\n",
    "    for i, sessions in reversed(list(enumerate(rates_average.columns))):\n",
    "        \n",
    "        # Upper and lower bounds\n",
    "        upper_bound = rates_average[sessions] + rates_sem[sessions]\n",
    "        lower_bound = rates_average[sessions] - rates_sem[sessions]\n",
    "        \n",
    "        # Use fill_between for shaded area\n",
    "        plt.fill_between(\n",
    "            rates_average.index, \n",
    "            lower_bound, \n",
    "            upper_bound, \n",
    "            color=fill_pallette[i], \n",
    "            alpha=0.2,\n",
    "            linewidth = 0 \n",
    "        )\n",
    "        \n",
    "        # Plot the main event rate line\n",
    "        sns.lineplot(\n",
    "            x=rates_average.index, \n",
    "            y=rates_average[sessions], \n",
    "            label=legend_text[i],\n",
    "            color=line_pallette[i], \n",
    "            linewidth = line_thickness\n",
    "        )\n",
    "    \n",
    "    # Add axis labels and title (if needed)\n",
    "    sns.despine()\n",
    "\n",
    "    ax.set_xticks([0, 20, 40])\n",
    "    ax.set_yticks([0, 0.1, 0.20])\n",
    "    \n",
    "    ax.set_ylim([0, 0.20])\n",
    "    ax.set_xlim([0, 41])\n",
    "    \n",
    "    \n",
    "    opto_actual_bins = [8, 20]\n",
    "    if plot_opto:\n",
    "        for zone in opto_actual_bins:\n",
    "            ax.axvline(x = zone, linewidth=1.5, linestyle='--', color=\"tab:orange\", alpha = 0.5)\n",
    "            #ax.axvline(x = zone, linewidth=1.5, linestyle='--', color=\"cyan\", alpha = 0.75)\n",
    "        \n",
    "\n",
    "    #x.legend(labels = legend_text)\n",
    "    sns.move_legend(ax, \"lower right\",  ncol=1, frameon=False, title=None, fontsize = 12)\n",
    "    \n",
    "    plt.gca().spines['bottom'].set_linewidth(line_thickness)  # bottom axis\n",
    "    plt.gca().spines['left'].set_linewidth(line_thickness)  # left axis\n",
    "    plt.xlabel('Track position')\n",
    "    plt.ylabel('Event rate')\n",
    "    plt.tick_params(axis='both', which='both', length=0, pad = 8)\n",
    "    #plt.tight_layout()\n",
    "    \n",
    "    return fig, ax"
   ]
  },
  {
   "cell_type": "code",
   "execution_count": 7,
   "metadata": {},
   "outputs": [
    {
     "data": {
      "image/png": "[encoded data removed]",
      "text/plain": [
       "<Figure size 250x250 with 1 Axes>"
      ]
     },
     "metadata": {},
     "output_type": "display_data"
    }
   ],
   "source": [
    "s2_s3_rates = rates_average.drop(columns = 'session_1')\n",
    "s2_s3_sem = rates_sem.drop(columns = 'session_1')\n",
    "\n",
    "\n",
    "linepal = ['#357ba3', '#ff903b']\n",
    "fillpal = ['#357ba333', '#ff903b33']\n",
    "\n",
    "fig, ax= plot_event_rates_seaborn(s2_s3_rates, s2_s3_sem, \n",
    "                                  fill_pallette = fillpal, \n",
    "                                  line_pallette= linepal,\n",
    "                                  plt_h=2.5,\n",
    "                                  plt_w=2.5,\n",
    "                                  plot_opto=True,\n",
    "                                  legend_text=['Session 1', 'Session 2'])\n",
    "\n"
   ]
  },
  {
   "cell_type": "code",
   "execution_count": 8,
   "metadata": {},
   "outputs": [],
   "source": [
    "plt.rcParams[\"font.family\"] = \"Arial\"\n",
    "plt.rcParams['svg.fonttype'] = 'none'\n",
    "save_path = f\"../output_figs/eventrates/eventrates_mcherry.svg\"\n",
    "fig.savefig(save_path, format='svg')"
   ]
  },
  {
   "cell_type": "code",
   "execution_count": null,
   "metadata": {},
   "outputs": [],
   "source": []
  }
 ],
 "metadata": {
  "kernelspec": {
   "display_name": "placecell_processing",
   "language": "python",
   "name": "python3"
  },
  "language_info": {
   "codemirror_mode": {
    "name": "ipython",
    "version": 3
   },
   "file_extension": ".py",
   "mimetype": "text/x-python",
   "name": "python",
   "nbconvert_exporter": "python",
   "pygments_lexer": "ipython3",
   "version": "3.12.4"
  }
 },
 "nbformat": 4,
 "nbformat_minor": 4
}
