{
 "cells": [
  {
   "cell_type": "code",
   "execution_count": 1,
   "metadata": {},
   "outputs": [],
   "source": [
    "import sys\n",
    "import os\n",
    "sys.path.append(os.path.abspath(os.path.join(os.getcwd(), '..')))\n",
    "\n",
    "import numpy as np\n",
    "import pandas as pd\n",
    "import plotly.graph_objects as go\n",
    "from plotly.subplots import make_subplots\n",
    "import matplotlib.pyplot as plt\n",
    "from matplotlib.gridspec import GridSpec\n",
    "import seaborn as sns\n",
    "import plotly.io as pio\n",
    "from IPython.display import display, clear_output\n",
    "import ipywidgets as widgets\n",
    "\n",
    "from utils.placecell_functions import *\n",
    "from utils.placecell_ploting import *\n",
    "from utils.placecell_classes import data_loader, animal_widgets\n",
    "\n",
    "\n"
   ]
  },
  {
   "cell_type": "code",
   "execution_count": 2,
   "metadata": {},
   "outputs": [
    {
     "data": {
      "application/javascript": "IPython.OutputArea.prototype._should_scroll = function(lines) {\n    return false;\n}\n",
      "text/plain": [
       "<IPython.core.display.Javascript object>"
      ]
     },
     "metadata": {},
     "output_type": "display_data"
    }
   ],
   "source": [
    "%%javascript\n",
    "IPython.OutputArea.prototype._should_scroll = function(lines) {\n",
    "    return false;\n",
    "}"
   ]
  },
  {
   "cell_type": "markdown",
   "metadata": {},
   "source": [
    "### Data loading and variable declaration"
   ]
  },
  {
   "cell_type": "code",
   "execution_count": 3,
   "metadata": {},
   "outputs": [],
   "source": [
    "data_dir = \"../data/\"\n",
    "save_location = \"../output_data/\"\n",
    "output_dir = \"../output_figs/\"\n",
    "\n",
    "exp_sets = ['mcherry']\n",
    "data_sets = ['Day2 - Squ-Tri-Tri','Day4 - Tri-Tri-Tri', 'Day5 - Tri-OptoTri-Tri', 'Day6 - Tri-OptoHex-Hex']\n",
    "\n",
    "data_titles = ['Day2 - Familiar - Novel - Novel','Day4 - Familiar - Familiar - Familiar', 'Day5 - Familiar - OptoFamiliar - Familiar', 'Day6 - Familiar - OptoNovel - Novel']\n",
    "session_names = [[\"Familiar\", \"Novel\", \"Novel\"],[\"Familiar\", \"Familiar\", \"Familiar\"],[\"Familiar\", \"OptoFamiliar\", \"Familiar\"],[\"Familiar\", \"OptoNovel\", \"Novel\"]]\n",
    "\n",
    "data_filenames = ['ratemap_structure_day2.mat','ratemap_structure_day4.mat','ratemap_structure_day5.mat','ratemap_structure_day6.mat']\n",
    "\n",
    "\n",
    "opto_actual_bins = [8, 20] #These are the zones that contained opto frames but the edges hardly had any\n",
    "control_actual_bins = [21, 33] #This is the oposite of that zone. \n",
    "opto_bins = [10,18] # inclusive and based on zero index (added +1 when indexing)\n",
    "control_bins = [21,29] # inclusive and based on zero index (added +1 to second element when indexing)\n",
    "\n",
    "\n",
    "# colour palettes used for the plotting\n",
    "purple_green_pallette = [(0.24423453, 0.20678459, 0.41985299), (0.29215894, 0.76144162, 0.67886578)]\n",
    "purple_orange_pallette = [(0.24423453, 0.20678459, 0.41985299), (0.9411764705882353, 0.5607843137254902, 0.2901960784313726)]\n",
    "\n",
    "purple_green_pallette_point = [(0.44423453, 0.40678459, 0.61985299), (0.29215894, 0.76144162, 0.67886578)]\n",
    "purple_orange_pallette_point = [(0.44423453, 0.40678459, 0.61985299), (0.9490196078431372, 0.6784313725490196, 0.45098039215686275)]\n",
    "\n",
    "\n",
    "joint_pal = [purple_orange_pallette, purple_green_pallette]\n",
    "joint_pal_point = [purple_orange_pallette_point, purple_green_pallette_point]\n"
   ]
  },
  {
   "cell_type": "markdown",
   "metadata": {},
   "source": [
    "### Define and show widgets\n",
    "Using ipython widgets create and show widgets for data display option\n",
    "- Could add observers for each widget to run the data processing step"
   ]
  },
  {
   "cell_type": "code",
   "execution_count": 4,
   "metadata": {},
   "outputs": [
    {
     "data": {
      "application/vnd.jupyter.widget-view+json": {
       "model_id": "afe106b936ee43dfb5f74ee9479d7dcd",
       "version_major": 2,
       "version_minor": 0
      },
      "text/plain": [
       "RadioButtons(description='Experiments:', options=('chrimson', 'jaws', 'mcherry'), value='chrimson')"
      ]
     },
     "metadata": {},
     "output_type": "display_data"
    },
    {
     "data": {
      "application/vnd.jupyter.widget-view+json": {
       "model_id": "71a43184fa3745f89ca4708fce62be35",
       "version_major": 2,
       "version_minor": 0
      },
      "text/plain": [
       "RadioButtons(description='Dataset:', options=('Day2 - Squ-Tri-Tri', 'Day4 - Tri-Tri-Tri', 'Day5 - Tri-OptoTri-…"
      ]
     },
     "metadata": {},
     "output_type": "display_data"
    },
    {
     "data": {
      "application/vnd.jupyter.widget-view+json": {
       "model_id": "5b0ec5cfd47e47189acb8088302cf04c",
       "version_major": 2,
       "version_minor": 0
      },
      "text/plain": [
       "Output()"
      ]
     },
     "metadata": {},
     "output_type": "display_data"
    },
    {
     "data": {
      "application/vnd.jupyter.widget-view+json": {
       "model_id": "8a0622d012844693b05af5a152a613d5",
       "version_major": 2,
       "version_minor": 0
      },
      "text/plain": [
       "Select(description='Activity type:', options=('All activity', 'Place activity'), rows=2, style=DescriptionStyl…"
      ]
     },
     "metadata": {},
     "output_type": "display_data"
    },
    {
     "data": {
      "application/vnd.jupyter.widget-view+json": {
       "model_id": "1501c971753843a78697ed28a805c1d1",
       "version_major": 2,
       "version_minor": 0
      },
      "text/plain": [
       "Select(description='Ratemap type:', options=('All cell rates', 'Place cells'), rows=2, style=DescriptionStyle(…"
      ]
     },
     "metadata": {},
     "output_type": "display_data"
    },
    {
     "data": {
      "application/vnd.jupyter.widget-view+json": {
       "model_id": "07018ee38cf746839d79424f6528e2fe",
       "version_major": 2,
       "version_minor": 0
      },
      "text/plain": [
       "RadioButtons(description='Ratemap to align to:', index=1, options=('Session 1', 'Session 2', 'Session 3'), val…"
      ]
     },
     "metadata": {},
     "output_type": "display_data"
    },
    {
     "data": {
      "application/vnd.jupyter.widget-view+json": {
       "model_id": "d3df5542c34c47739d58b94f40f64be0",
       "version_major": 2,
       "version_minor": 0
      },
      "text/plain": [
       "Checkbox(value=False, description='Show optozone', indent=False)"
      ]
     },
     "metadata": {},
     "output_type": "display_data"
    }
   ],
   "source": [
    "# callback function to redraw widgets when dataset changes\n",
    "def update_widgets(change):\n",
    "    animals.create_widget(output_widget)\n",
    "    \n",
    "\n",
    "sort_by = widgets.RadioButtons(\n",
    "        options=['Session 1', 'Session 2', 'Session 3'],\n",
    "        index = 1,\n",
    "        description='Ratemap to align to:',\n",
    "        disabled=False,\n",
    "        button_style='info', # 'success', 'info', 'warning', 'danger' or ''\n",
    "    )\n",
    "\n",
    "activity_type = widgets.Select(\n",
    "                options=[\"All activity\",\"Place activity\"],\n",
    "                index=0,\n",
    "                rows = 2,\n",
    "                description='Activity type:',\n",
    "                disabled=False,\n",
    "                style= {'description_width': 'initial'}\n",
    "            )\n",
    "\n",
    "show_opto = widgets.Checkbox(\n",
    "            value=False,\n",
    "            description='Show optozone',\n",
    "            disabled=False,\n",
    "            indent=False\n",
    "        )\n",
    "\n",
    "ratemap_type = widgets.Select(\n",
    "                options=[\"All cell rates\",\"Place cells\"],\n",
    "                index=0,\n",
    "                rows = 2,\n",
    "                description='Ratemap type:',\n",
    "                disabled=False,\n",
    "                style= {'description_width': 'initial'}\n",
    "            )\n",
    "\n",
    "\n",
    "# create an instance of the data loader\n",
    "data = data_loader(data_dir, exp_sets, data_sets, data_filenames, data_titles, session_names)\n",
    "\n",
    "# observe when the data object changes\n",
    "data.data_widget.observe(update_widgets, names = 'value')\n",
    "\n",
    "#create an output widget that will hold the FOV image or the selection widget\n",
    "output_widget = widgets.Output() \n",
    "\n",
    "#create animals widgets\n",
    "animals = animal_widgets(output_widget, data)\n",
    "\n",
    "#display all of the widgets\n",
    "display(data.exp_widget)\n",
    "display(data.data_widget)\n",
    "display(animals.create_widget(output_widget)) \n",
    "display(activity_type)\n",
    "display(ratemap_type)\n",
    "display(sort_by)\n",
    "display(show_opto)\n"
   ]
  },
  {
   "cell_type": "markdown",
   "metadata": {},
   "source": [
    "### Process data based on widget choice\n",
    "From each widget obtain the selection choice and process the data."
   ]
  },
  {
   "cell_type": "code",
   "execution_count": null,
   "metadata": {},
   "outputs": [],
   "source": [
    "# get widgets values and process data\n",
    "animal_id = animals.selection.value\n",
    "ids_to_pool = animals.ids_to_pool.value\n",
    "sort_by_index = sort_by.index\n",
    "compare_to_place = activity_type.index\n",
    "plot_opto = show_opto.value\n",
    "\n",
    "placecell_rates_dict = data.placecell_rates_dict\n",
    "placecell_info_dict = data.placecell_info_dict\n",
    "\n",
    "raw_rates_dict = data.raw_rates_dict\n",
    "#raw_rates_info_dict = data.allcell_info_dict\n",
    "\n",
    "sub_titles = data.sub_titles\n",
    "data_set_to_plot = data.data_set_to_plot\n",
    "title_for_data = data.title_for_data \n",
    "display_placecells = ratemap_type.index\n",
    "\n",
    "\n",
    "# Select which data to be included in analysis\n",
    "if animal_id == 'pooled data':\n",
    "    #concatonate all of the animals ontop of eachother into a list\n",
    "    placecell_rates = create_pooled_data(placecell_rates_dict,ids_to_pool)\n",
    "    placecell_spatial_info = create_pooled_data(placecell_info_dict,ids_to_pool)\n",
    "    raw_rates = create_pooled_data(raw_rates_dict,ids_to_pool)\n",
    "    rates_average, rates_sem = get_pooled_average_rates(raw_rates_dict,ids_to_pool)\n",
    "    coors_diags_mean, coors_diags_sem, opto_zone_diag, ctrl_zone_diag, opto_zone_avg, control_zone_avg = get_pooled_avg_corrs(raw_rates_dict,\n",
    "                                                                                                                              placecell_rates_dict,\n",
    "                                                                                                                              sort_by_index,\n",
    "                                                                                                                              compare_to_place,\n",
    "                                                                                                                              ids_to_pool,\n",
    "                                                                                                                              opto_bins,\n",
    "                                                                                                                              control_bins)\n",
    "else:\n",
    "    placecell_rates = placecell_rates_dict[animal_id]\n",
    "    raw_rates = raw_rates_dict[animal_id]\n",
    "    rates_average = get_average_rates(raw_rates_dict,animal_id)\n",
    "\n",
    "\n",
    "# sort the ratemaps based on the user input\n",
    "compare_rates = placecell_rates[sort_by_index]\n",
    "sort_id, sort_index = sort_ratemaps(compare_rates)\n",
    "\n",
    "# using the indices of sort_id Sort each placecell and rawrates  DataFrames in the list of dataframes and s and convert \n",
    "place_rates_sorted = [df.reindex(sort_id).fillna(0) for df in placecell_rates]\n",
    "raw_rates_sorted = [df.reindex(sort_id).fillna(0) for df in raw_rates]\n",
    "spatial_info_sorted = [df.reindex(sort_id).fillna(0) for df in placecell_spatial_info]\n",
    "\n",
    "#get the placefield center for sorted ratemaps\n",
    "place_rates_sorted_centers = [get_placecell_centers(df) for df in place_rates_sorted]\n",
    "raw_rates_sorted_centers = [get_placecell_centers(df) for df in raw_rates_sorted]\n",
    "\n",
    "\n",
    "# Proccess which rate maps to display          \n",
    "if compare_to_place:\n",
    "    display_rates = place_rates_sorted\n",
    "else:\n",
    "    display_rates = raw_rates_sorted\n",
    "    display_rates[sort_by_index] = place_rates_sorted[sort_by_index]\n",
    "\n",
    "# create the arrays to used for correlation\n",
    "array1 = display_rates[sort_by_index].values\n",
    "array2 = [df.values for df in display_rates]\n",
    "\n",
    "# create the population vector correlation\n",
    "place_rates_popveccorr = [create_corr_matrix(array1,array2[i]) for i in range(len(array2))]\n",
    "\n",
    "# create the spatial correlation\n",
    "place_rates_spatialcorr = [spatial_corr(array1,array2[i]) for i in range(len(array2))]\n",
    "\n",
    "\n",
    "if animal_id != 'pooled data':\n",
    "\n",
    "    coors_diags_mean = [np.diagonal(corrs) for corrs in place_rates_popveccorr]\n",
    "    opto_zone_avg = [[np.mean(corrs[opto_bins[0]:opto_bins[1]+1,opto_bins[0]:opto_bins[1]+1])] for corrs in place_rates_popveccorr]\n",
    "    control_zone_avg = [[np.mean(corrs[control_bins[0]:control_bins[1]+1,control_bins[0]:control_bins[1]+1])] for corrs in place_rates_popveccorr]\n",
    "\n",
    "    opto_zone_diag = [[np.nanmean(id[opto_bins[0]:opto_bins[1]+1])] for id in coors_diags_mean]\n",
    "    ctrl_zone_diag = [[np.nanmean(id[control_bins[0]:control_bins[1]+1])] for id in coors_diags_mean]\n",
    "\n",
    "\n",
    "if display_placecells:\n",
    "    rates_to_plot =  sort_placecells(placecell_rates)\n",
    "else:\n",
    "    rates_to_plot = display_rates\n",
    "\n",
    "\n",
    "\n",
    "\n"
   ]
  },
  {
   "cell_type": "markdown",
   "metadata": {},
   "source": [
    "### Place field Shifts\n",
    "how much the place field shifts from session2 to session3 - does the OLM opto leave place cells that shift their place fields less?\n",
    "\n",
    "> *note that this is place cells vs their place field shift regardless of if its a place cell or not.*"
   ]
  },
  {
   "cell_type": "code",
   "execution_count": 12,
   "metadata": {},
   "outputs": [],
   "source": [
    "# to compare the rates shift between session2 and session3 need to exclude cells that dont have a ratemap in session3\n",
    "# creates a list of rates dictionaries that contatin rates only if there is a rate in the last session (index 2) \n",
    "retained_place_rates = [df[(rates_to_plot[2].sum(axis=1) > 0).values] for df in rates_to_plot]\n",
    "\n",
    "\n",
    "binwidth = 2.72 #width of bin in cms\n",
    "\n",
    "place_rates_retained_centers = [get_placecell_centers(df) for df in retained_place_rates]\n",
    "\n",
    "optozone_rates = []\n",
    "controlzone_rates = []\n",
    "\n",
    "for i in range(len(retained_place_rates)):\n",
    "    sort_by_place = place_rates_retained_centers[sort_by_index]\n",
    "    retained_rates = np.array(retained_place_rates[i])\n",
    " \n",
    "    optozone_rates.append(retained_rates[(sort_by_place >= opto_bins[0]) & (sort_by_place <= opto_bins[1])])\n",
    "    controlzone_rates.append(retained_rates[(sort_by_place >= control_bins[0]) & (sort_by_place <= control_bins[1])])\n",
    "\n",
    "\n",
    "opto_zone_centers = [np.argmax(rates, axis=1) for rates in optozone_rates]\n",
    "control_zone_centers = [np.argmax(rates, axis=1) for rates in controlzone_rates]\n",
    "\n",
    "opto_place_shift = (opto_zone_centers[1]-opto_zone_centers[2])*binwidth\n",
    "control_place_shift = (control_zone_centers[1]-control_zone_centers[2])*binwidth\n",
    "\n",
    "\n",
    "# create a random shuffle of the spatial \n",
    "random.seed(42)\n",
    "combined_centers =  np.concatenate((control_zone_centers[1], opto_zone_centers[1]), axis = 0)\n",
    "random_bins = [random.randint(0, 39) for _ in range(len(combined_centers))]\n",
    "\n",
    "# Create DataFrame from the Series\n",
    "place_shifts = pd.DataFrame({'Control-zone': pd.Series(control_place_shift), 'Opto-zone': pd.Series(opto_place_shift)})\n",
    "shuff_shifts = pd.DataFrame({'Shuffled': pd.Series((combined_centers - random_bins)*binwidth)})\n"
   ]
  },
  {
   "cell_type": "code",
   "execution_count": null,
   "metadata": {},
   "outputs": [],
   "source": []
  },
  {
   "cell_type": "code",
   "execution_count": null,
   "metadata": {},
   "outputs": [],
   "source": [
    "line_thickness = 3\n",
    "plot_lines = line_thickness /1.5\n",
    "point_size = 5\n",
    "fontsize_scale = 3\n",
    "group_spacing = 0.2\n",
    "plot_type = 'barplot'\n",
    "\n",
    "sns.set_theme(style=\"ticks\", font='Arial', font_scale=fontsize_scale)\n",
    "\n",
    "fig, (ax1, ax2) = plt.subplots(1,2, gridspec_kw={'width_ratios': [2, 1]}, figsize=(12, 7))\n",
    "\n",
    "\n",
    "new_palette = []\n",
    "palette_div = 3\n",
    "palette = sns.color_palette('mako', palette_div)\n",
    "new_palette.append(palette[0])\n",
    "new_palette.append(palette[palette_div-1])\n",
    "new_palette_alpha = [t + (0.5,) for t in new_palette]\n",
    "\n",
    "# Creating a figure and specifying a grid layout\n",
    "sns.kdeplot(data=place_shifts,\n",
    "    fill=True, \n",
    "    common_norm=False, \n",
    "    palette=new_palette,\n",
    "    alpha=0.75,\n",
    "    ax=ax1, \n",
    "    legend = False)\n",
    "\n",
    "sns.kdeplot(data=place_shifts,\n",
    "    palette = ['black','black'],\n",
    "    alpha=0.75,\n",
    "    common_norm=False,\n",
    "    linewidth = plot_lines, \n",
    "    ax=ax1, \n",
    "    legend = False)\n",
    "\n",
    "sns.kdeplot(data=shuff_shifts, \n",
    "    palette=\"gray\", \n",
    "    linestyle='--',\n",
    "    linewidth = plot_lines, \n",
    "    ax = ax1,\n",
    "    legend = False)\n",
    "\n",
    "# sns.rugplot(data=place_shifts, \n",
    "#     height=0.1, \n",
    "#     palette=new_palette,\n",
    "#     linewidth = 1)\n",
    "\n",
    "plt.legend([],[], frameon=False)\n",
    "#ax1.legend(labels=['Opto','Controlzone', 'Shuffled'])\n",
    "ax1.set(xlabel='Place field shift (cm)', ylabel='Probability density',xlim=[-80, 80],ylim=[0, 0.05])\n",
    "\n",
    "\n",
    "# get the stats for the values\n",
    "t_val, p_val = stats.ttest_ind(np.abs(place_shifts['Control-zone'].dropna()),np.abs(place_shifts['Opto-zone'].dropna()))\n",
    "pval_stars = get_significance_stars(p_val)\n",
    "\n",
    "if plot_type == 'boxplot':\n",
    "    # Create the box plot with error bars\n",
    "    sns.boxplot(data=np.abs(place_shifts), \n",
    "                showfliers = False,\n",
    "                palette=new_palette,\n",
    "                linewidth = line_thickness/2,\n",
    "                width=0.4,ax=ax2)\n",
    "elif plot_type == 'barplot':\n",
    "    \n",
    "    # Create the bar plot with error bars\n",
    "    sns.barplot(data=np.abs(place_shifts), \n",
    "                palette=new_palette,\n",
    "                linewidth = plot_lines,\n",
    "                width=0.5,\n",
    "                errorbar='se', \n",
    "                capsize=0.25, \n",
    "                err_kws={'linewidth': plot_lines,'color': 'black'}, \n",
    "                edgecolor = 'black',\n",
    "                ax=ax2)\n",
    "\n",
    "# Change the border color of the bars\n",
    "new_palette_alpha = [color + (0.5,) for color in new_palette]\n",
    "for i, patch in enumerate(ax2.patches):\n",
    "    patch.set_edgecolor('black')\n",
    "    patch.set_linewidth(plot_lines)\n",
    "    patch.set_facecolor(new_palette_alpha[i])\n",
    "    \n",
    "# add a swarm plot to the bars\n",
    "sns.swarmplot(data=np.abs(place_shifts),\n",
    "              palette=new_palette, \n",
    "              size = point_size, \n",
    "              ax=ax2)\n",
    "ax2.set(ylabel='Placefield shift (cm)')\n",
    "\n",
    "# add the significance values to the bar \n",
    "max_val = np.max(np.abs(place_shifts[['Control-zone',\t'Opto-zone']]))+5\n",
    "plt.plot([0,1],[max_val+0.2,max_val+0.2],color='black', linewidth=line_thickness)\n",
    "plt.text(0.5, max_val+0.25, f'{pval_stars}', ha='center')\n",
    "\n",
    "\n",
    "# Change the thickness of the axis lines\n",
    "ax1.spines['bottom'].set_linewidth(line_thickness)  # bottom axis\n",
    "ax1.spines['left'].set_linewidth(line_thickness)  # left axis\n",
    "ax1.tick_params(axis='both', which='major', width=line_thickness, length=10)\n",
    "ax1.set_ylim([0, 0.04])\n",
    "\n",
    "ax2.spines['bottom'].set_linewidth(0)  # bottom axis\n",
    "ax2.spines['left'].set_linewidth(line_thickness)  # left axis\n",
    "ax2.tick_params(axis='y', which='major', width=line_thickness, length=10)\n",
    "ax2.tick_params(axis='x', width=0)\n",
    "ax2.set_xticks([0, 1], [\"Control \\nZone\", \"Opto \\nZone\"])\n",
    "ax2.set_ylim([-1, 85])\n",
    "ax2.set_xlim([-0.5, 1.5])\n",
    "\n",
    "\n",
    "sns.despine()\n",
    "# Adjust layout and spacing\n",
    "plt.tight_layout()\n",
    "\n",
    "\n"
   ]
  },
  {
   "cell_type": "code",
   "execution_count": 9,
   "metadata": {},
   "outputs": [],
   "source": [
    "joint_pal = [['#693ca3', '#3ebec9'], ['#693ca3', '#eb6c9c']]\n",
    "joint_pal_point = [['#7c5fa3', '#abeff5'], ['#7c5fa3', '#e38dae']]"
   ]
  },
  {
   "cell_type": "code",
   "execution_count": 10,
   "metadata": {},
   "outputs": [
    {
     "data": {
      "image/png": "[encoded data removed]",
      "text/plain": [
       "<Figure size 400x400 with 2 Axes>"
      ]
     },
     "metadata": {},
     "output_type": "display_data"
    }
   ],
   "source": [
    "pallette = ['#eb6c9c', '#693ca3']\n",
    "#pallette = purple_green_pallette\n",
    "line_thickness = 3\n",
    "plot_lines = line_thickness /1.5\n",
    "point_size = 1.5\n",
    "#point_size = 5.4\n",
    "fontsize_scale = 2\n",
    "\n",
    "# get the stats for the values\n",
    "t_val, p_val = stats.ttest_ind(np.abs(place_shifts['Control-zone'].dropna()),np.abs(place_shifts['Opto-zone'].dropna()))\n",
    "pval_stars = get_significance_stars(p_val)\n",
    "\n",
    "\n",
    "sns.set_theme(style=\"ticks\", font='Arial', font_scale=fontsize_scale)\n",
    "\n",
    "# Create a figure and axis\n",
    "fig, (ax1, ax2) = plt.subplots(nrows=2, ncols=1, figsize=(4, 4), sharex=True,gridspec_kw={'height_ratios': [2, 1.5]})\n",
    "\n",
    "# KDE plot on the first subplot (top)\n",
    "sns.kdeplot(data=place_shifts,\n",
    "    fill=True, \n",
    "    common_norm=False, \n",
    "    palette=pallette,\n",
    "    alpha=0.75,\n",
    "    hue_order=['Opto-zone', 'Control-zone'],\n",
    "    ax=ax1, \n",
    "    legend = False)\n",
    "\n",
    "sns.kdeplot(data=place_shifts,\n",
    "    palette = ['black','black'],\n",
    "    alpha=0.75,\n",
    "    common_norm=False,\n",
    "    linewidth = plot_lines, \n",
    "    ax=ax1, \n",
    "    legend = False)\n",
    "\n",
    "# sns.kdeplot(data=shuff_shifts, \n",
    "#     palette=\"gray\", \n",
    "#     linestyle='--',\n",
    "#     linewidth = plot_lines, \n",
    "#     ax = ax1,\n",
    "#     legend = False)\n",
    "\n",
    "#pval_stars = 'ns'\n",
    "# add the significance values to the bar \n",
    "max_val = np.max(place_shifts[['Control-zone',\t'Opto-zone']])+25\n",
    "plt.plot([max_val+0.2,max_val+0.2],[0,1],color='black', linewidth=line_thickness)\n",
    "plt.text(max_val, 0.5, f'{pval_stars}', va='center', rotation=270)\n",
    "\n",
    "sns.swarmplot(data=place_shifts,palette=pallette, size = point_size, ax=ax2,orient='h', dodge=False, hue_order=['Opto-zone', 'Control-zone'])\n",
    "ax2.set(xlabel='Placefield shift (cm)')\n",
    "\n",
    "\n",
    "\n",
    "\n",
    "\n",
    "# Change the thickness of the axis lines\n",
    "ax1.spines['bottom'].set_linewidth(line_thickness)  # bottom axis\n",
    "ax1.spines['left'].set_linewidth(line_thickness)  # left axis\n",
    "ax1.tick_params(axis='both', which='major', width=line_thickness, length=5)\n",
    "ax1.tick_params(axis='y', length = 10)\n",
    "ax1.set_xlabel('')\n",
    "ax1.set_xlim([-115, 105])\n",
    "ax1.set_ylim([0, 0.05])\n",
    "\n",
    "ax2.spines['bottom'].set_linewidth(line_thickness)  # bottom axis\n",
    "ax2.spines['left'].set_linewidth(0)  # left axis\n",
    "ax2.tick_params(axis='x', which='major', width=line_thickness, length=10)\n",
    "ax2.set_yticks([0, 1],[\" \", \" \"])  # Just for the two groups\n",
    "ax2.tick_params(axis='y', which='major', width=0, length=10)\n",
    "\n",
    "#space between the plots reduce a little bit \n",
    "fig.subplots_adjust(hspace=0.02)\n",
    "\n",
    "sns.despine()\n",
    "#plt.tight_layout()\n",
    "\n",
    "\n",
    "# plt.rcParams[\"font.family\"] = \"Arial\"\n",
    "# plt.rcParams['svg.fonttype'] = 'none'\n",
    "# save_path = f\"../output_figs/placefield_shifts/novel_mcherry_opto_shifts.svg\"\n",
    "# fig.savefig(save_path, format='svg')\n"
   ]
  },
  {
   "cell_type": "code",
   "execution_count": 12,
   "metadata": {},
   "outputs": [
    {
     "data": {
      "text/plain": [
       "'../output_figs/placefield_shifts/opto-novel_Feild_shifts_vert.svg'"
      ]
     },
     "execution_count": 12,
     "metadata": {},
     "output_type": "execute_result"
    }
   ],
   "source": []
  }
 ],
 "metadata": {
  "kernelspec": {
   "display_name": "Python 3 (ipykernel)",
   "language": "python",
   "name": "python3"
  },
  "language_info": {
   "codemirror_mode": {
    "name": "ipython",
    "version": 3
   },
   "file_extension": ".py",
   "mimetype": "text/x-python",
   "name": "python",
   "nbconvert_exporter": "python",
   "pygments_lexer": "ipython3",
   "version": "3.12.4"
  }
 },
 "nbformat": 4,
 "nbformat_minor": 4
}
