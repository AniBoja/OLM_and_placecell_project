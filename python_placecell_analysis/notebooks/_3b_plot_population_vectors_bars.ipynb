{
 "cells": [
  {
   "cell_type": "code",
   "execution_count": 1,
   "metadata": {},
   "outputs": [],
   "source": [
    "import sys\n",
    "import os\n",
    "sys.path.append(os.path.abspath(os.path.join(os.getcwd(), '..')))\n",
    "\n",
    "import numpy as np\n",
    "import pandas as pd\n",
    "import plotly.graph_objects as go\n",
    "from plotly.subplots import make_subplots\n",
    "import matplotlib.pyplot as plt\n",
    "import seaborn as sns\n",
    "import plotly.io as pio\n",
    "from IPython.display import display, clear_output\n",
    "import ipywidgets as widgets\n",
    "import pickle\n",
    "\n",
    "from utils.placecell_functions import *\n",
    "from utils.placecell_ploting import *\n",
    "from utils.placecell_classes import data_loader, animal_widgets"
   ]
  },
  {
   "cell_type": "code",
   "execution_count": 2,
   "metadata": {},
   "outputs": [
    {
     "data": {
      "application/javascript": "IPython.OutputArea.prototype._should_scroll = function(lines) {\n    return false;\n}\n",
      "text/plain": [
       "<IPython.core.display.Javascript object>"
      ]
     },
     "metadata": {},
     "output_type": "display_data"
    }
   ],
   "source": [
    "%%javascript\n",
    "IPython.OutputArea.prototype._should_scroll = function(lines) {\n",
    "    return false;\n",
    "}"
   ]
  },
  {
   "cell_type": "code",
   "execution_count": 3,
   "metadata": {},
   "outputs": [],
   "source": [
    "data_dir = \"../data/\"\n",
    "save_location = \"../output_data/\"\n",
    "output_dir = \"../output_figs/\"\n",
    "\n",
    "exp_sets = ['mcherry']\n",
    "data_sets = ['Day2 - Squ-Tri-Tri','Day4 - Tri-Tri-Tri', 'Day5 - Tri-OptoTri-Tri', 'Day6 - Tri-OptoHex-Hex']\n",
    "\n",
    "data_titles = ['Day2 - Familiar - Novel - Novel','Day4 - Familiar - Familiar - Familiar', 'Day5 - Familiar - OptoFamiliar - Familiar', 'Day6 - Familiar - OptoNovel - Novel']\n",
    "session_names = [[\"Familiar\", \"Novel\", \"Novel\"],[\"Familiar\", \"Familiar\", \"Familiar\"],[\"Familiar\", \"OptoFamiliar\", \"Familiar\"],[\"Familiar\", \"OptoNovel\", \"Novel\"]]\n",
    "\n",
    "data_filenames = ['ratemap_structure_day2.mat','ratemap_structure_day4.mat','ratemap_structure_day5.mat','ratemap_structure_day6.mat']\n",
    "\n",
    "\n",
    "opto_actual_bins = [8, 20] #These are the zones that contained opto frames but the edges hardly had any\n",
    "control_actual_bins = [21, 33] #This is the oposite of that zone. \n",
    "opto_bins = [10,18] # inclusive and based on zero index (added +1 when indexing)\n",
    "control_bins = [21,29] # inclusive and based on zero index (added +1 to second element when indexing)\n",
    "\n",
    "\n",
    "# colour palettes used for the plotting\n",
    "purple_green_pallette = [(0.24423453, 0.20678459, 0.41985299), (0.29215894, 0.76144162, 0.67886578)]\n",
    "purple_orange_pallette = [(0.24423453, 0.20678459, 0.41985299), (0.9411764705882353, 0.5607843137254902, 0.2901960784313726)]\n",
    "\n",
    "purple_green_pallette_point = [(0.44423453, 0.40678459, 0.61985299), (0.29215894, 0.76144162, 0.67886578)]\n",
    "purple_orange_pallette_point = [(0.44423453, 0.40678459, 0.61985299), (0.9490196078431372, 0.6784313725490196, 0.45098039215686275)]\n",
    "\n",
    "\n",
    "joint_pal = [purple_orange_pallette, purple_green_pallette]\n",
    "joint_pal_point = [purple_orange_pallette_point, purple_green_pallette_point]\n"
   ]
  },
  {
   "cell_type": "markdown",
   "metadata": {},
   "source": [
    "### Define and show widgets\n",
    "Using ipython widgets create and show widgets for data display option\n",
    "- Could add observers for each widget to run the data processing step"
   ]
  },
  {
   "cell_type": "code",
   "execution_count": 4,
   "metadata": {},
   "outputs": [
    {
     "data": {
      "application/vnd.jupyter.widget-view+json": {
       "model_id": "5fc5d8941bcb46cbba654cb19fbd8397",
       "version_major": 2,
       "version_minor": 0
      },
      "text/plain": [
       "RadioButtons(description='Experiments:', options=('mcherry',), value='mcherry')"
      ]
     },
     "metadata": {},
     "output_type": "display_data"
    },
    {
     "data": {
      "application/vnd.jupyter.widget-view+json": {
       "model_id": "af5610d7d4154ca1a1013c8dd855f0f6",
       "version_major": 2,
       "version_minor": 0
      },
      "text/plain": [
       "RadioButtons(description='Dataset:', options=('Day2 - Squ-Tri-Tri', 'Day4 - Tri-Tri-Tri', 'Day5 - Tri-OptoTri-…"
      ]
     },
     "metadata": {},
     "output_type": "display_data"
    },
    {
     "data": {
      "application/vnd.jupyter.widget-view+json": {
       "model_id": "685ea98e7dd8402184720e3fbbde32f5",
       "version_major": 2,
       "version_minor": 0
      },
      "text/plain": [
       "Output()"
      ]
     },
     "metadata": {},
     "output_type": "display_data"
    },
    {
     "data": {
      "application/vnd.jupyter.widget-view+json": {
       "model_id": "fe45f8f2e2ef44e5a784f9ce28c24a40",
       "version_major": 2,
       "version_minor": 0
      },
      "text/plain": [
       "Select(description='Activity type:', options=('All activity', 'Place activity'), rows=2, style=DescriptionStyl…"
      ]
     },
     "metadata": {},
     "output_type": "display_data"
    },
    {
     "data": {
      "application/vnd.jupyter.widget-view+json": {
       "model_id": "95590f0dd53a4ed3ae832681a319f2f4",
       "version_major": 2,
       "version_minor": 0
      },
      "text/plain": [
       "Select(description='Ratemap type:', options=('All cell rates', 'Place cells'), rows=2, style=DescriptionStyle(…"
      ]
     },
     "metadata": {},
     "output_type": "display_data"
    },
    {
     "data": {
      "application/vnd.jupyter.widget-view+json": {
       "model_id": "54605a747de548d3ae6952aad505eacd",
       "version_major": 2,
       "version_minor": 0
      },
      "text/plain": [
       "RadioButtons(description='Ratemap to align to:', index=1, options=('Session 1', 'Session 2', 'Session 3'), val…"
      ]
     },
     "metadata": {},
     "output_type": "display_data"
    },
    {
     "data": {
      "application/vnd.jupyter.widget-view+json": {
       "model_id": "24443a93c39b4b26b9f039fb0434b488",
       "version_major": 2,
       "version_minor": 0
      },
      "text/plain": [
       "Checkbox(value=False, description='Show optozone', indent=False)"
      ]
     },
     "metadata": {},
     "output_type": "display_data"
    }
   ],
   "source": [
    "# callback function to redraw widgets when dataset changes\n",
    "def update_widgets(change):\n",
    "    animals.create_widget(output_widget)\n",
    "    \n",
    "\n",
    "sort_by = widgets.RadioButtons(\n",
    "        options=['Session 1', 'Session 2', 'Session 3'],\n",
    "        index = 1,\n",
    "        description='Ratemap to align to:',\n",
    "        disabled=False,\n",
    "        button_style='info', # 'success', 'info', 'warning', 'danger' or ''\n",
    "    )\n",
    "\n",
    "activity_type = widgets.Select(\n",
    "                options=[\"All activity\",\"Place activity\"],\n",
    "                index=0,\n",
    "                rows = 2,\n",
    "                description='Activity type:',\n",
    "                disabled=False,\n",
    "                style= {'description_width': 'initial'}\n",
    "            )\n",
    "\n",
    "show_opto = widgets.Checkbox(\n",
    "            value=False,\n",
    "            description='Show optozone',\n",
    "            disabled=False,\n",
    "            indent=False\n",
    "        )\n",
    "\n",
    "ratemap_type = widgets.Select(\n",
    "                options=[\"All cell rates\",\"Place cells\"],\n",
    "                index=0,\n",
    "                rows = 2,\n",
    "                description='Ratemap type:',\n",
    "                disabled=False,\n",
    "                style= {'description_width': 'initial'}\n",
    "            )\n",
    "\n",
    "\n",
    "# create an instance of the data loader\n",
    "data = data_loader(data_dir, exp_sets, data_sets, data_filenames, data_titles, session_names)\n",
    "\n",
    "# observe when the data object changes\n",
    "data.data_widget.observe(update_widgets, names = 'value')\n",
    "\n",
    "#create an output widget that will hold the FOV image or the selection widget\n",
    "output_widget = widgets.Output() \n",
    "\n",
    "#create animals widgets\n",
    "animals = animal_widgets(output_widget, data)\n",
    "\n",
    "#display all of the widgets\n",
    "display(data.exp_widget)\n",
    "display(data.data_widget)\n",
    "display(animals.create_widget(output_widget)) \n",
    "display(activity_type)\n",
    "display(ratemap_type)\n",
    "display(sort_by)\n",
    "display(show_opto)\n"
   ]
  },
  {
   "cell_type": "markdown",
   "metadata": {},
   "source": [
    "### Process the data for plotting"
   ]
  },
  {
   "cell_type": "code",
   "execution_count": 15,
   "metadata": {},
   "outputs": [
    {
     "name": "stderr",
     "output_type": "stream",
     "text": [
      "c:\\Users\\Matt\\anaconda3\\envs\\placecell_processing\\Lib\\site-packages\\numpy\\lib\\_function_base_impl.py:2999: RuntimeWarning: invalid value encountered in divide\n",
      "  c /= stddev[:, None]\n",
      "c:\\Users\\Matt\\anaconda3\\envs\\placecell_processing\\Lib\\site-packages\\numpy\\lib\\_function_base_impl.py:3000: RuntimeWarning: invalid value encountered in divide\n",
      "  c /= stddev[None, :]\n"
     ]
    },
    {
     "data": {
      "text/plain": [
       "[np.float64(1.0),\n",
       " np.float64(1.0),\n",
       " np.float64(1.0),\n",
       " np.float64(0.9999999999999998)]"
      ]
     },
     "execution_count": 15,
     "metadata": {},
     "output_type": "execute_result"
    }
   ],
   "source": [
    "# get widgets values and process data\n",
    "animal_id = animals.selection.value\n",
    "ids_to_pool = animals.ids_to_pool.value\n",
    "sort_by_index = sort_by.index\n",
    "compare_to_place = activity_type.index\n",
    "plot_opto = show_opto.value\n",
    "\n",
    "placecell_rates_dict = data.placecell_rates_dict\n",
    "placecell_info_dict = data.placecell_info_dict\n",
    "\n",
    "raw_rates_dict = data.raw_rates_dict\n",
    "#raw_rates_info_dict = data.allcell_info_dict\n",
    "\n",
    "sub_titles = data.sub_titles\n",
    "data_set_to_plot = data.data_set_to_plot\n",
    "title_for_data = data.title_for_data \n",
    "display_placecells = ratemap_type.index\n",
    "\n",
    "\n",
    "# Select which data to be included in analysis\n",
    "if animal_id == 'pooled data':\n",
    "    #concatonate all of the animals ontop of eachother into a list\n",
    "    placecell_rates = create_pooled_data(placecell_rates_dict,ids_to_pool)\n",
    "    placecell_spatial_info = create_pooled_data(placecell_info_dict,ids_to_pool)\n",
    "    raw_rates = create_pooled_data(raw_rates_dict,ids_to_pool)\n",
    "    rates_average, rates_sem = get_pooled_average_rates(raw_rates_dict,ids_to_pool)\n",
    "    coors_diags_mean, coors_diags_sem, opto_zone_diag, ctrl_zone_diag, opto_zone_avg, control_zone_avg = get_pooled_avg_corrs(raw_rates_dict,\n",
    "                                                                                                                              placecell_rates_dict,\n",
    "                                                                                                                              sort_by_index,\n",
    "                                                                                                                              compare_to_place,\n",
    "                                                                                                                              ids_to_pool,\n",
    "                                                                                                                              opto_bins,\n",
    "                                                                                                                              control_bins)\n",
    "else:\n",
    "    placecell_rates = placecell_rates_dict[animal_id]\n",
    "    raw_rates = raw_rates_dict[animal_id]\n",
    "    rates_average = get_average_rates(raw_rates_dict,animal_id)\n",
    "\n",
    "\n",
    "# sort the ratemaps based on the user input\n",
    "compare_rates = placecell_rates[sort_by_index]\n",
    "sort_id, sort_index = sort_ratemaps(compare_rates)\n",
    "\n",
    "# using the indices of sort_id Sort each placecell and rawrates  DataFrames in the list of dataframes and s and convert \n",
    "place_rates_sorted = [df.reindex(sort_id).fillna(0) for df in placecell_rates]\n",
    "raw_rates_sorted = [df.reindex(sort_id).fillna(0) for df in raw_rates]\n",
    "spatial_info_sorted = [df.reindex(sort_id).fillna(0) for df in placecell_spatial_info]\n",
    "\n",
    "#get the placefield center for sorted ratemaps\n",
    "place_rates_sorted_centers = [get_placecell_centers(df) for df in place_rates_sorted]\n",
    "raw_rates_sorted_centers = [get_placecell_centers(df) for df in raw_rates_sorted]\n",
    "\n",
    "\n",
    "# Proccess which rate maps to display          \n",
    "if compare_to_place:\n",
    "    display_rates = place_rates_sorted\n",
    "else:\n",
    "    display_rates = raw_rates_sorted\n",
    "    display_rates[sort_by_index] = place_rates_sorted[sort_by_index]\n",
    "\n",
    "# create the arrays to used for correlation\n",
    "array1 = display_rates[sort_by_index].values\n",
    "array2 = [df.values for df in display_rates]\n",
    "\n",
    "# create the population vector correlation\n",
    "place_rates_popveccorr = [create_corr_matrix(array1,array2[i]) for i in range(len(array2))]\n",
    "\n",
    "# create the spatial correlation\n",
    "place_rates_spatialcorr = [spatial_corr(array1,array2[i]) for i in range(len(array2))]\n",
    "\n",
    "\n",
    "if animal_id != 'pooled data':\n",
    "\n",
    "    coors_diags_mean = [np.diagonal(corrs) for corrs in place_rates_popveccorr]\n",
    "    opto_zone_avg = [[np.mean(corrs[opto_bins[0]:opto_bins[1]+1,opto_bins[0]:opto_bins[1]+1])] for corrs in place_rates_popveccorr]\n",
    "    control_zone_avg = [[np.mean(corrs[control_bins[0]:control_bins[1]+1,control_bins[0]:control_bins[1]+1])] for corrs in place_rates_popveccorr]\n",
    "\n",
    "    opto_zone_diag = [[np.nanmean(id[opto_bins[0]:opto_bins[1]+1])] for id in coors_diags_mean]\n",
    "    ctrl_zone_diag = [[np.nanmean(id[control_bins[0]:control_bins[1]+1])] for id in coors_diags_mean]\n",
    "\n",
    "\n",
    "if display_placecells:\n",
    "    rates_to_plot =  sort_placecells(placecell_rates)\n",
    "else:\n",
    "    rates_to_plot = display_rates\n",
    "\n",
    "\n",
    "\n",
    "ctrl_zone_diag_display = ctrl_zone_diag.copy()\n",
    "ctrl_zone_diag_display.pop(sort_by_index)\n",
    "\n",
    "opto_zone_diag_display = opto_zone_diag.copy()\n",
    "opto_zone_diag_display.pop(sort_by_index)\n",
    "\n",
    "\n"
   ]
  },
  {
   "cell_type": "markdown",
   "metadata": {},
   "source": [
    "# Create group plots from multiple data sets\n",
    "- run the following cell once to create empty lists and then comment out\n",
    "- change the dataset via widget and re-run processing and add datasets to list\n",
    "- plot the resulting grouped plot"
   ]
  },
  {
   "cell_type": "code",
   "execution_count": 9,
   "metadata": {},
   "outputs": [],
   "source": [
    "# run just once and then comment out\n",
    "average_pop_corrs_control = []\n",
    "average_pop_corrs_opto = []"
   ]
  },
  {
   "cell_type": "code",
   "execution_count": 16,
   "metadata": {},
   "outputs": [],
   "source": [
    "corr_index = 1 # session index for the correlation (sort by session is already removed)\n",
    "\n",
    "# append the data to the grouped data list\n",
    "average_pop_corrs_control.append(ctrl_zone_diag_display[corr_index])\n",
    "average_pop_corrs_opto.append(opto_zone_diag_display[corr_index])\n",
    "\n",
    "# reload the next dataset from the widget and reprocess the data. Append the next dataset to the above list"
   ]
  },
  {
   "cell_type": "code",
   "execution_count": 19,
   "metadata": {},
   "outputs": [],
   "source": [
    "np.save(save_location + 'pop_vector_bars\\\\mcherry_ctrl_avg_popvec.npy', average_pop_corrs_control)\n",
    "np.save(save_location + 'pop_vector_bars\\\\mcherry_opto_avg_popvec.npy', average_pop_corrs_opto)"
   ]
  },
  {
   "cell_type": "code",
   "execution_count": 21,
   "metadata": {},
   "outputs": [],
   "source": [
    "mcherry_pop_corrs_control = np.load(save_location+ 'pop_vector_bars\\\\mcherry_ctrl_avg_popvec.npy')\n",
    "mcherry_pop_corrs_opto = np.load(save_location + 'pop_vector_bars\\\\mcherry_opto_avg_popvec.npy')"
   ]
  },
  {
   "cell_type": "code",
   "execution_count": 22,
   "metadata": {},
   "outputs": [],
   "source": [
    "purple_green_pallette = [(0.24423453, 0.20678459, 0.41985299), (0.29215894, 0.76144162, 0.67886578)]\n",
    "purple_orange_pallette = [(0.24423453, 0.20678459, 0.41985299), (0.9411764705882353, 0.5607843137254902, 0.2901960784313726)]\n",
    "\n",
    "purple_green_pallette_point = [(0.44423453, 0.40678459, 0.61985299), (0.29215894, 0.76144162, 0.67886578)]\n",
    "purple_orange_pallette_point = [(0.44423453, 0.40678459, 0.61985299), (0.9490196078431372, 0.6784313725490196, 0.45098039215686275)]\n",
    "\n",
    "\n",
    "joint_pal = [purple_green_pallette, purple_orange_pallette]\n",
    "\n",
    "joint_pal_point = [purple_green_pallette_point, purple_orange_pallette_point]"
   ]
  },
  {
   "cell_type": "code",
   "execution_count": 23,
   "metadata": {},
   "outputs": [],
   "source": [
    "joint_pal = [['#693ca3', '#3ebec9'], ['#693ca3', '#eb6c9c']]\n",
    "joint_pal_point = [['#7c5fa3', '#abeff5'], ['#7c5fa3', '#e38dae']]"
   ]
  },
  {
   "cell_type": "code",
   "execution_count": 26,
   "metadata": {},
   "outputs": [
    {
     "data": {
      "image/png": "[encoded data removed]",
      "text/plain": [
       "<Figure size 700x500 with 1 Axes>"
      ]
     },
     "metadata": {},
     "output_type": "display_data"
    }
   ],
   "source": [
    "opsins_pop_corrs_opto_nov = mcherry_pop_corrs_opto\n",
    "opsins_pop_corrs_ctrl_nov = mcherry_pop_corrs_control\n",
    "\n",
    "def strip_id(id):\n",
    "    id = str(id)\n",
    "    animal = id[0:4]\n",
    "    return animal\n",
    "\n",
    "y_data_control = opsins_pop_corrs_ctrl_nov\n",
    "y_data_opto = opsins_pop_corrs_opto_nov\n",
    "\n",
    "\n",
    "exp_labels = [\"Novel\", \"Familiar\", \"mCherry Familiar\", \"mCherry Novel\"]\n",
    "\n",
    "\n",
    "control_corr_df = pd.DataFrame()\n",
    "opto_corr_df = pd.DataFrame()\n",
    "for i in range(len(y_data_control)):\n",
    "    contorl_temp_df = pd.DataFrame({'PopVec-correlation': pd.Series(y_data_control[i]), 'Experiment': exp_labels[i], 'Zone': 'Control-zone'})\n",
    "    opto_temp_df = pd.DataFrame({'PopVec-correlation': pd.Series(y_data_opto[i]), 'Experiment': exp_labels[i], 'Zone': 'Opto-zone'})\n",
    "    control_corr_df = pd.concat([control_corr_df,contorl_temp_df], ignore_index=True)\n",
    "    opto_corr_df = pd.concat([opto_corr_df,opto_temp_df], ignore_index=True)\n",
    "\n",
    "pop_corr_melted_df = pd.concat([control_corr_df, opto_corr_df], ignore_index=True)\n",
    "\n",
    "#pop_corr_melted_df\n",
    "exp_pvals = []\n",
    "for exp in exp_labels:\n",
    "    exp_df = pop_corr_melted_df[pop_corr_melted_df['Experiment'] == exp]\n",
    "    control_vals = exp_df[exp_df['Zone']=='Control-zone']['PopVec-correlation'].dropna().values\n",
    "    opto_vals = exp_df[exp_df['Zone']=='Opto-zone']['PopVec-correlation'].dropna().values\n",
    "    exp_pvals.append(stats.ttest_rel(control_vals,opto_vals)[1])\n",
    "\n",
    "exp_pval_stars = [get_significance_stars(p_val) for p_val in exp_pvals]\n",
    "\n",
    "fig = plot_paired_box(pop_corr_melted_df, x = \"Experiment\", y = \"PopVec-correlation\", \n",
    "                          plot_type = 'barplot',\n",
    "                          stats = exp_pval_stars, group = \"Zone\", show_ns=True, fontsize_scale=2.0,\n",
    "                          width_scale = 1.75, height = 5.0, pallette = joint_pal,\n",
    "                         point_pallette = joint_pal_point, \n",
    "                         point_alpha= 0.9, group_dv=2)\n"
   ]
  },
  {
   "cell_type": "code",
   "execution_count": 28,
   "metadata": {},
   "outputs": [],
   "source": [
    "plt.rcParams[\"font.family\"] = \"Arial\"\n",
    "plt.rcParams['svg.fonttype'] = 'none'\n",
    "save_path = f\"../output_figs/pop_vector_bars/mcherry_popvec_correlation.svg\"\n",
    "fig.savefig(save_path, format='svg')"
   ]
  }
 ],
 "metadata": {
  "kernelspec": {
   "display_name": "placecell_processing",
   "language": "python",
   "name": "python3"
  },
  "language_info": {
   "codemirror_mode": {
    "name": "ipython",
    "version": 3
   },
   "file_extension": ".py",
   "mimetype": "text/x-python",
   "name": "python",
   "nbconvert_exporter": "python",
   "pygments_lexer": "ipython3",
   "version": "3.12.4"
  }
 },
 "nbformat": 4,
 "nbformat_minor": 2
}
